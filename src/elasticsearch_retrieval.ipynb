{
 "cells": [
  {
   "cell_type": "code",
   "execution_count": 1,
   "id": "16e67194-cb6a-425b-b8ef-86381291c1fd",
   "metadata": {},
   "outputs": [],
   "source": [
    "# 개빡치네"
   ]
  },
  {
   "cell_type": "code",
   "execution_count": 1,
   "id": "51aea71d-a7bf-41f1-bc1c-6de3b74afcc6",
   "metadata": {},
   "outputs": [],
   "source": [
    "from elasticsearch import Elasticsearch\n",
    "from datasets import load_from_disk, DatasetDict, Dataset\n",
    "from tqdm import tqdm"
   ]
  },
  {
   "cell_type": "code",
   "execution_count": 2,
   "id": "ca6b4c0b-a97b-499f-a24c-da11cc1fb4b7",
   "metadata": {},
   "outputs": [
    {
     "data": {
      "text/plain": [
       "{'name': '_eN3Dqz',\n",
       " 'cluster_name': 'elasticsearch',\n",
       " 'cluster_uuid': 'vExZ3cZVR7Gms-wk7OVygA',\n",
       " 'version': {'number': '5.4.3',\n",
       "  'build_hash': 'eed30a8',\n",
       "  'build_date': '2017-06-22T00:34:03.743Z',\n",
       "  'build_snapshot': False,\n",
       "  'lucene_version': '6.5.1'},\n",
       " 'tagline': 'You Know, for Search'}"
      ]
     },
     "execution_count": 2,
     "metadata": {},
     "output_type": "execute_result"
    }
   ],
   "source": [
    "es = Elasticsearch('http://localhost:30001')\n",
    "es.info()"
   ]
  },
  {
   "cell_type": "code",
   "execution_count": 3,
   "id": "bcd4152f-ccaa-4c7a-81d0-0509f2e2863d",
   "metadata": {},
   "outputs": [],
   "source": [
    "INDEX = 'wiki'"
   ]
  },
  {
   "cell_type": "code",
   "execution_count": 5,
   "id": "b6185f25-34cc-46f2-a79f-72f80005db35",
   "metadata": {},
   "outputs": [
    {
     "data": {
      "text/plain": [
       "Dataset({\n",
       "    features: ['id', 'question'],\n",
       "    num_rows: 600\n",
       "})"
      ]
     },
     "execution_count": 5,
     "metadata": {},
     "output_type": "execute_result"
    }
   ],
   "source": [
    "test = load_from_disk(\"/opt/ml/input/data/test_dataset\")\n",
    "test['validation']"
   ]
  },
  {
   "cell_type": "code",
   "execution_count": 11,
   "id": "0730091e-a508-44f0-a48b-b22b5df7a0b7",
   "metadata": {},
   "outputs": [],
   "source": [
    "contexts = []\n",
    "for i in range(len(test['validation'])):\n",
    "    question = test['validation'][i]['question']\n",
    "    context = ''\n",
    "    body = {\n",
    "        'query': {\n",
    "            'match': {\n",
    "                'text': question\n",
    "            }\n",
    "        }\n",
    "    }\n",
    "    result = es.search(index=INDEX, body=body)\n",
    "    for j in range(len(result['hits']['hits'])):\n",
    "        candidate = result['hits']['hits'][j]['_source']['text']\n",
    "        context += candidate + '@@@'\n",
    "        \n",
    "    contexts.append(context)\n",
    "    \n",
    "new_test = {'question': test['validation']['question'],\n",
    "            'id': test['validation']['id'],\n",
    "            'context': contexts\n",
    "           }"
   ]
  },
  {
   "cell_type": "code",
   "execution_count": null,
   "id": "358b450b",
   "metadata": {},
   "outputs": [],
   "source": [
    "new_data = Dataset.from_dict(new_test)\n",
    "new_datasets = DatasetDict({\"validation\":new_test})\n",
    "new_datasets.save_to_disk(\"/opt/ml/input/data/es_retrieval\")"
   ]
  },
  {
   "cell_type": "code",
   "execution_count": null,
   "id": "0d66b1f4-de55-4a71-a6b9-f2a22d27aec9",
   "metadata": {},
   "outputs": [],
   "source": []
  }
 ],
 "metadata": {
  "interpreter": {
   "hash": "d4d1e4263499bec80672ea0156c357c1ee493ec2b1c70f0acce89fc37c4a6abe"
  },
  "kernelspec": {
   "display_name": "Python 3.8.5 ('base')",
   "language": "python",
   "name": "python3"
  },
  "language_info": {
   "codemirror_mode": {
    "name": "ipython",
    "version": 3
   },
   "file_extension": ".py",
   "mimetype": "text/x-python",
   "name": "python",
   "nbconvert_exporter": "python",
   "pygments_lexer": "ipython3",
   "version": "3.8.5"
  }
 },
 "nbformat": 4,
 "nbformat_minor": 5
}
