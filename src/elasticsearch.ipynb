{
 "cells": [
  {
   "cell_type": "code",
   "execution_count": 15,
   "metadata": {},
   "outputs": [],
   "source": [
    "from elasticsearch import Elasticsearch\n",
    "from datasets import load_from_disk"
   ]
  },
  {
   "cell_type": "code",
   "execution_count": 16,
   "metadata": {},
   "outputs": [],
   "source": [
    "es = Elasticsearch('http://localhost:30001')"
   ]
  },
  {
   "cell_type": "code",
   "execution_count": 17,
   "metadata": {},
   "outputs": [
    {
     "data": {
      "text/plain": [
       "{'name': '_eN3Dqz',\n",
       " 'cluster_name': 'elasticsearch',\n",
       " 'cluster_uuid': 'vExZ3cZVR7Gms-wk7OVygA',\n",
       " 'version': {'number': '5.4.3',\n",
       "  'build_hash': 'eed30a8',\n",
       "  'build_date': '2017-06-22T00:34:03.743Z',\n",
       "  'build_snapshot': False,\n",
       "  'lucene_version': '6.5.1'},\n",
       " 'tagline': 'You Know, for Search'}"
      ]
     },
     "execution_count": 17,
     "metadata": {},
     "output_type": "execute_result"
    }
   ],
   "source": [
    "es.info()"
   ]
  },
  {
   "cell_type": "code",
   "execution_count": 18,
   "metadata": {},
   "outputs": [
    {
     "name": "stdout",
     "output_type": "stream",
     "text": [
      "{\n",
      "  \"name\" : \"_eN3Dqz\",\n",
      "  \"cluster_name\" : \"elasticsearch\",\n",
      "  \"cluster_uuid\" : \"vExZ3cZVR7Gms-wk7OVygA\",\n",
      "  \"version\" : {\n",
      "    \"number\" : \"5.4.3\",\n",
      "    \"build_hash\" : \"eed30a8\",\n",
      "    \"build_date\" : \"2017-06-22T00:34:03.743Z\",\n",
      "    \"build_snapshot\" : false,\n",
      "    \"lucene_version\" : \"6.5.1\"\n",
      "  },\n",
      "  \"tagline\" : \"You Know, for Search\"\n",
      "}\n"
     ]
    }
   ],
   "source": [
    "!curl -XGET localhost:30001"
   ]
  },
  {
   "cell_type": "code",
   "execution_count": 24,
   "metadata": {},
   "outputs": [
    {
     "data": {
      "text/plain": [
       "{'acknowledged': True, 'shards_acknowledged': True}"
      ]
     },
     "execution_count": 24,
     "metadata": {},
     "output_type": "execute_result"
    }
   ],
   "source": [
    "INDEX = 'wiki'\n",
    "es.indices.create(index=INDEX)"
   ]
  },
  {
   "cell_type": "code",
   "execution_count": 25,
   "metadata": {},
   "outputs": [
    {
     "name": "stdout",
     "output_type": "stream",
     "text": [
      "health status index uuid                   pri rep docs.count docs.deleted store.size pri.store.size\n",
      "yellow open   wiki  5PqlAq6LRYq8hvTJMbnJ8w   5   1          0            0       650b           650b\n"
     ]
    }
   ],
   "source": [
    "!curl -XGET localhost:30001/_cat/indices?v"
   ]
  },
  {
   "cell_type": "code",
   "execution_count": 31,
   "metadata": {},
   "outputs": [],
   "source": [
    "import json\n",
    "with open(\"/opt/ml/input/data/wikipedia_documents.json\", \"r\", encoding=\"utf-8\") as json_file:\n",
    "    wiki_data = json.load(json_file)"
   ]
  },
  {
   "cell_type": "code",
   "execution_count": 33,
   "metadata": {},
   "outputs": [
    {
     "name": "stdout",
     "output_type": "stream",
     "text": [
      "Lengths of unique contexts : 56737\n"
     ]
    }
   ],
   "source": [
    "contexts = list(\n",
    "    dict.fromkeys([v[\"text\"] for v in wiki_data.values()])\n",
    ")  # set 은 매번 순서가 바뀌므로\n",
    "print(f\"Lengths of unique contexts : {len(contexts)}\")"
   ]
  },
  {
   "cell_type": "code",
   "execution_count": 35,
   "metadata": {},
   "outputs": [],
   "source": [
    "for idx, text in enumerate(contexts):\n",
    "    body = {'text': text}\n",
    "    es.index(index=INDEX, doc_type='news', id=idx+1, body=body)"
   ]
  },
  {
   "cell_type": "code",
   "execution_count": 36,
   "metadata": {},
   "outputs": [
    {
     "data": {
      "text/plain": [
       "{'_index': 'wiki',\n",
       " '_type': 'news',\n",
       " '_id': '100',\n",
       " '_version': 1,\n",
       " 'found': True,\n",
       " '_source': {'text': '보통 오른손잡이는 반대쪽 왼손으로 넥 부분을 잡고 현을 누르며 오른손으로 현을 탄현한다. 그러나 반드시 이러한 자세를 갖출 필요는 없다. 왼손잡이인 사람은 가격, 상품 수 등이 크게 불리하기 때문에 왼손잡이용 기타를 준비할 수 없다는 것이 단점이지만, 오른손잡이에 맞춰진 기타에 기존의 반대 자세를 사용함으로써 자연스럽게 적응할 수는 있지만, 전기 컨트롤러의 위치가 다를 수 있다.\\n\\n현을 누르는 손은 넥 부분의 아래쪽을 빠져나가듯이 하여 엄지를 목 뒤쪽에 잡고, 집게손가락부터 새끼손가락까지 4개의 현을 손가락으로 누르는 것이 클래식 스타일, 곧 기본 자세이다. 또 엄지를 넥 위쪽 핑거보드에 가깝게 목 부분을 잡는 스타일도 주로 록 음악에서 이용된다. 시각이나 신체에 장애가 있는 사람은 목의 아래쪽부터 손가락을 위치해 현을 누르지 않고, 위쪽부터 손가락을 감싸듯이 하여 현을 눌러 연주하는 연주인도 있다.\\n\\n클래식 기타의 경우 왼발을 발판에 실어 다리의 위치를 높여서 몸체 측면의 움푹한 곳을 왼발의 넓적다리에 실어 기타를 몸 전체로 감싸 안는 자세로 연주한다. 그 밖의 통기타나 전기 기타의 경우는 발판은 쓰지 않고 기타 측면의 움푹한 곳을 오른쪽 다리의 넓적다리에 실어 연주하는 경우가 많다.\\n\\n또, 무대에서 클래식 기타는 반드시 의자에 앉아 연주하며, 그 밖에는 주로 기타 끈을 매고 어깨에 내려서 연주하는 경우가 많다.\\n\\n재즈 기타리스트는 앉아서 연주하는 경우가 많았다. 이는 한 때 빅 밴드 시대의 무대 형태의 흔적이라고 여겨진다. 록 음악인은 앉아서 연주하는 일은 많지 않았다.'}}"
      ]
     },
     "execution_count": 36,
     "metadata": {},
     "output_type": "execute_result"
    }
   ],
   "source": [
    "es.get(index=INDEX, doc_type='news', id=100)"
   ]
  },
  {
   "cell_type": "markdown",
   "metadata": {},
   "source": []
  },
  {
   "cell_type": "code",
   "execution_count": 37,
   "metadata": {},
   "outputs": [
    {
     "data": {
      "text/plain": [
       "Dataset({\n",
       "    features: ['id', 'question'],\n",
       "    num_rows: 600\n",
       "})"
      ]
     },
     "execution_count": 37,
     "metadata": {},
     "output_type": "execute_result"
    }
   ],
   "source": [
    "test = load_from_disk(\"/opt/ml/input/data/test_dataset\")\n",
    "test['validation']"
   ]
  },
  {
   "cell_type": "code",
   "execution_count": 45,
   "metadata": {},
   "outputs": [],
   "source": [
    "body = {\n",
    "\t\t'query': {\n",
    "\t\t\t\t'match': {\n",
    "\t\t\t\t\t\t'text': '[Question]'\n",
    "\t\t\t\t}\n",
    "\t\t}\n",
    "}\n",
    "res = es.search(index=INDEX, body=body)"
   ]
  },
  {
   "cell_type": "code",
   "execution_count": null,
   "metadata": {},
   "outputs": [],
   "source": []
  }
 ],
 "metadata": {
  "interpreter": {
   "hash": "d4d1e4263499bec80672ea0156c357c1ee493ec2b1c70f0acce89fc37c4a6abe"
  },
  "kernelspec": {
   "display_name": "Python 3 (ipykernel)",
   "language": "python",
   "name": "python3"
  },
  "language_info": {
   "codemirror_mode": {
    "name": "ipython",
    "version": 3
   },
   "file_extension": ".py",
   "mimetype": "text/x-python",
   "name": "python",
   "nbconvert_exporter": "python",
   "pygments_lexer": "ipython3",
   "version": "3.8.5"
  }
 },
 "nbformat": 4,
 "nbformat_minor": 4
}
